{
 "cells": [
  {
   "cell_type": "code",
   "execution_count": 6,
   "metadata": {
    "pycharm": {
     "name": "#%%\n"
    }
   },
   "outputs": [
    {
     "name": "stdout",
     "output_type": "stream",
     "text": [
      "Obtaining file:///Users/eve/Desktop/S/6/Project/modin\n",
      "Requirement already satisfied: pandas==1.4.2 in /Users/eve/opt/anaconda3/lib/python3.8/site-packages (from modin==0.10.2+361.ga6d2ab6c.dirty) (1.4.2)\n",
      "Requirement already satisfied: packaging in /Users/eve/opt/anaconda3/lib/python3.8/site-packages (from modin==0.10.2+361.ga6d2ab6c.dirty) (20.4)\n",
      "Requirement already satisfied: numpy>=1.18.5 in /Users/eve/opt/anaconda3/lib/python3.8/site-packages (from modin==0.10.2+361.ga6d2ab6c.dirty) (1.23.0)\n",
      "Requirement already satisfied: fsspec in /Users/eve/opt/anaconda3/lib/python3.8/site-packages (from modin==0.10.2+361.ga6d2ab6c.dirty) (0.7.4)\n",
      "Requirement already satisfied: python-dateutil>=2.8.1 in /Users/eve/opt/anaconda3/lib/python3.8/site-packages (from pandas==1.4.2->modin==0.10.2+361.ga6d2ab6c.dirty) (2.8.1)\n",
      "Requirement already satisfied: pytz>=2020.1 in /Users/eve/opt/anaconda3/lib/python3.8/site-packages (from pandas==1.4.2->modin==0.10.2+361.ga6d2ab6c.dirty) (2020.1)\n",
      "Requirement already satisfied: six>=1.5 in /Users/eve/opt/anaconda3/lib/python3.8/site-packages (from python-dateutil>=2.8.1->pandas==1.4.2->modin==0.10.2+361.ga6d2ab6c.dirty) (1.15.0)\n",
      "Requirement already satisfied: pyparsing>=2.0.2 in /Users/eve/opt/anaconda3/lib/python3.8/site-packages (from packaging->modin==0.10.2+361.ga6d2ab6c.dirty) (2.4.7)\n",
      "Installing collected packages: modin\n",
      "  Attempting uninstall: modin\n",
      "    Found existing installation: modin 0.10.2+361.ga6d2ab6c.dirty\n",
      "    Uninstalling modin-0.10.2+361.ga6d2ab6c.dirty:\n",
      "      Successfully uninstalled modin-0.10.2+361.ga6d2ab6c.dirty\n",
      "  Running setup.py develop for modin\n",
      "Successfully installed modin-0.10.2+361.ga6d2ab6c.dirty\n",
      "\u001b[33mWARNING: You are using pip version 22.1; however, version 22.1.2 is available.\n",
      "You should consider upgrading via the '/Users/eve/opt/anaconda3/bin/python -m pip install --upgrade pip' command.\u001b[0m\n"
     ]
    }
   ],
   "source": [
    "!pip install -e . # install modin from local source"
   ]
  },
  {
   "cell_type": "code",
   "execution_count": null,
   "metadata": {
    "pycharm": {
     "is_executing": true,
     "name": "#%%\n"
    }
   },
   "outputs": [],
   "source": [
    "import os\n",
    "os._exit(00) # restart the kernel"
   ]
  },
  {
   "cell_type": "code",
   "execution_count": 1,
   "metadata": {
    "pycharm": {
     "name": "#%%\n"
    }
   },
   "outputs": [
    {
     "data": {
      "text/plain": [
       "['A1']"
      ]
     },
     "execution_count": 1,
     "metadata": {},
     "output_type": "execute_result"
    }
   ],
   "source": [
    "import formulas\n",
    "func = formulas.Parser().ast('=SUM(A1:A1)')[1].compile()\n",
    "list(func.inputs)"
   ]
  },
  {
   "cell_type": "code",
   "execution_count": 2,
   "metadata": {
    "pycharm": {
     "name": "#%%\n"
    }
   },
   "outputs": [
    {
     "name": "stderr",
     "output_type": "stream",
     "text": [
      "2022-07-15 18:05:55,372\tINFO services.py:1470 -- View the Ray dashboard at \u001b[1m\u001b[32mhttp://127.0.0.1:8265\u001b[39m\u001b[22m\n"
     ]
    },
    {
     "data": {
      "text/plain": [
       "RayContext(dashboard_url='127.0.0.1:8265', python_version='3.8.3', ray_version='1.13.0', ray_commit='e4ce38d001dbbe09cd21c497fedd03d692b2be3e', address_info={'node_ip_address': '127.0.0.1', 'raylet_ip_address': '127.0.0.1', 'redis_address': None, 'object_store_address': '/tmp/ray/session_2022-07-15_18-05-52_790221_98313/sockets/plasma_store', 'raylet_socket_name': '/tmp/ray/session_2022-07-15_18-05-52_790221_98313/sockets/raylet', 'webui_url': '127.0.0.1:8265', 'session_dir': '/tmp/ray/session_2022-07-15_18-05-52_790221_98313', 'metrics_export_port': 58759, 'gcs_address': '127.0.0.1:65390', 'address': '127.0.0.1:65390', 'node_id': '7b6774e41ddf6ecfdef88cf0db019e6b8fbefe0268218f211d0829ea'})"
      ]
     },
     "execution_count": 2,
     "metadata": {},
     "output_type": "execute_result"
    }
   ],
   "source": [
    "import ray\n",
    "worker_num = 6\n",
    "ray.init(num_cpus=worker_num)"
   ]
  },
  {
   "cell_type": "code",
   "execution_count": 4,
   "metadata": {
    "pycharm": {
     "name": "#%%\n"
    }
   },
   "outputs": [
    {
     "name": "stdout",
     "output_type": "stream",
     "text": [
      "CPU times: user 35.6 s, sys: 21.4 s, total: 57 s\n",
      "Wall time: 57.9 s\n"
     ]
    }
   ],
   "source": [
    "import numpy as np\n",
    "import modin.pandas as pd\n",
    "import time\n",
    "\n",
    "m = 50000000\n",
    "n = 2\n",
    "\n",
    "%time modin_frame = pd.DataFrame(np.ones((m,n), dtype=int))._query_compiler._modin_frame"
   ]
  },
  {
   "cell_type": "code",
   "execution_count": 5,
   "metadata": {
    "pycharm": {
     "name": "#%%\n"
    }
   },
   "outputs": [
    {
     "name": "stdout",
     "output_type": "stream",
     "text": [
      "\u001b[2m\u001b[36m(deploy_ray_func pid=98335)\u001b[0m result [4. 4. 4. ... 4. 4. 4.]\n",
      "\u001b[2m\u001b[36m(deploy_ray_func pid=98335)\u001b[0m 1.948646068572998\n",
      "\u001b[2m\u001b[36m(deploy_ray_func pid=98331)\u001b[0m result [ 4.  4.  4. ...  4.  4. nan]\n",
      "\u001b[2m\u001b[36m(deploy_ray_func pid=98331)\u001b[0m 1.9060559272766113\n",
      "\u001b[2m\u001b[36m(deploy_ray_func pid=98333)\u001b[0m result [4. 4. 4. ... 4. 4. 4.]\n",
      "\u001b[2m\u001b[36m(deploy_ray_func pid=98333)\u001b[0m 2.012053966522217\n",
      "\u001b[2m\u001b[36m(deploy_ray_func pid=98332)\u001b[0m result [4. 4. 4. ... 4. 4. 4.]\n",
      "\u001b[2m\u001b[36m(deploy_ray_func pid=98332)\u001b[0m 2.0510711669921875\n",
      "\u001b[2m\u001b[36m(deploy_ray_func pid=98334)\u001b[0m result [4. 4. 4. ... 4. 4. 4.]\n",
      "\u001b[2m\u001b[36m(deploy_ray_func pid=98334)\u001b[0m 2.0589261054992676\n",
      "\u001b[2m\u001b[36m(deploy_ray_func pid=98336)\u001b[0m result [4. 4. 4. ... 4. 4. 4.]\n",
      "\u001b[2m\u001b[36m(deploy_ray_func pid=98336)\u001b[0m 2.069765090942383\n",
      "CPU times: user 239 ms, sys: 237 ms, total: 476 ms\n",
      "Wall time: 4.28 s\n"
     ]
    },
    {
     "name": "stderr",
     "output_type": "stream",
     "text": [
      "2022-07-15 18:07:19,267\tWARNING worker.py:1404 -- Traceback (most recent call last):\n",
      "  File \"python/ray/_raylet.pyx\", line 896, in ray._raylet.spill_objects_handler\n",
      "  File \"python/ray/_raylet.pyx\", line 899, in ray._raylet.spill_objects_handler\n",
      "  File \"/Users/eve/opt/anaconda3/lib/python3.8/site-packages/ray/external_storage.py\", line 662, in spill_objects\n",
      "    return _external_storage.spill_objects(object_refs, owner_addresses)\n",
      "  File \"/Users/eve/opt/anaconda3/lib/python3.8/site-packages/ray/external_storage.py\", line 303, in spill_objects\n",
      "    return self._write_multiple_objects(f, object_refs, owner_addresses, url)\n",
      "  File \"/Users/eve/opt/anaconda3/lib/python3.8/site-packages/ray/external_storage.py\", line 151, in _write_multiple_objects\n",
      "    written_bytes = f.write(payload)\n",
      "OSError: [Errno 28] No space left on device\n",
      "An unexpected internal error occurred while the IO worker was spilling objects: [Errno 28] No space left on device\n"
     ]
    },
    {
     "name": "stdout",
     "output_type": "stream",
     "text": [
      "[[ 4.]\n",
      " [ 4.]\n",
      " [ 4.]\n",
      " ...\n",
      " [ 4.]\n",
      " [ 4.]\n",
      " [nan]]\n"
     ]
    }
   ],
   "source": [
    "reference = ((0,0),(2,2)) # A1:B2\n",
    "templates = [(reference, 'RR')]\n",
    "\n",
    "%time result = modin_frame.formula_execution(func, worker_num, templates, 'test_50M_6machine.json')\n",
    "import time\n",
    "time.sleep(1)\n",
    "ray.timeline('test_50M_6machine.json')\n",
    "print(result.to_numpy())"
   ]
  },
  {
   "cell_type": "code",
   "execution_count": 8,
   "metadata": {
    "pycharm": {
     "name": "#%%\n"
    }
   },
   "outputs": [
    {
     "data": {
      "text/plain": [
       "(6, 4)"
      ]
     },
     "execution_count": 8,
     "metadata": {},
     "output_type": "execute_result"
    }
   ],
   "source": [
    "modin_frame._partitions.shape"
   ]
  },
  {
   "cell_type": "code",
   "execution_count": null,
   "metadata": {
    "pycharm": {
     "name": "#%%\n"
    }
   },
   "outputs": [],
   "source": []
  },
  {
   "cell_type": "code",
   "execution_count": null,
   "metadata": {
    "pycharm": {
     "name": "#%%\n"
    }
   },
   "outputs": [],
   "source": []
  }
 ],
 "metadata": {
  "kernelspec": {
   "display_name": "Python 3",
   "language": "python",
   "name": "python3"
  },
  "language_info": {
   "codemirror_mode": {
    "name": "ipython",
    "version": 3
   },
   "file_extension": ".py",
   "mimetype": "text/x-python",
   "name": "python",
   "nbconvert_exporter": "python",
   "pygments_lexer": "ipython3",
   "version": "3.8.3"
  }
 },
 "nbformat": 4,
 "nbformat_minor": 4
}
